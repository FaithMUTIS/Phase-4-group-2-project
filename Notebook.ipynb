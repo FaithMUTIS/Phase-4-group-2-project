{
 "cells": [
  {
   "cell_type": "markdown",
   "metadata": {},
   "source": [
    "# MOVIE RECOMMENDATIONS SYSTEMS"
   ]
  },
  {
   "cell_type": "markdown",
   "metadata": {},
   "source": [
    "## BUSINESS UNDERSTANDING"
   ]
  },
  {
   "cell_type": "markdown",
   "metadata": {},
   "source": [
    "### Project Overview\n",
    "The primary objective of this project is to develop a movie recommendation system that provides users with a list of the top 5 movie recommendations based on their previous ratings. By analyzing user preferences and movie ratings, the model will suggest movies that a user is likely to enjoy, helping them discover new content based on their viewing history therefore addressing the problem of content overload users face on streaming platforms."
   ]
  },
  {
   "cell_type": "markdown",
   "metadata": {},
   "source": [
    "### Business Problem\n",
    "In the current entertainment industry where users are overwhelmed by the overabundance volume of available content,users often feel overwhelmed by the number of movie choices. Providing personalized movie recommendations is critical to ensuring users stay engaged and reduce time spent searching for the content. A well designed recommendation system helps solve this problem by analyzing user behavior and movie preferences, ultimately improving user satisfaction, increasing engagement with the platform and optimizing content discovery. This project will create a recommendation model using collaborative filtering, which suggests movies to users based on how similar their preferences are to other users."
   ]
  },
  {
   "cell_type": "markdown",
   "metadata": {},
   "source": [
    "### Stakeholders\n",
    "- **Online Movie Streaming Platforms**:(e.g., Netflix, Amazon Prime) looking to enhance their user experience by providing personalized movie recommendations to retain users and increase viewing time.\n",
    "  \n",
    "- **Movie Rating Websites**:(e.g., IMDb, Rotten Tomatoes) aiming to suggest relevant movies to users based on their previous ratings to drive engagement and reviews."
   ]
  },
  {
   "cell_type": "markdown",
   "metadata": {},
   "source": [
    "## DATA UNDERSTANDING"
   ]
  },
  {
   "cell_type": "markdown",
   "metadata": {},
   "source": [
    "### Data Overview\n",
    "The MovieLens dataset provided by GroupLens is used for this recommendation system project. It contains over 100,000 movie ratings from 943 users and 1,682 movies. The data spans several decades, capturing diverse user tastes and preferences."
   ]
  },
  {
   "cell_type": "markdown",
   "metadata": {},
   "source": [
    "### Data Sources and Collection\n",
    "- Sources include:\n",
    "1. **MovieLens Website**: The dataset is sourced from the MovieLens website, a movie recommendation service by GroupLens Research at the       University of Minnesota.\n",
    "2. **User Ratings**: It includes user-generated ratings for movies, reflecting user preferences and opinions.\n",
    "3. **Movie Information**: The dataset provides information about movies, including titles, genres, and additional metadata.\n",
    "\n",
    "- Data Collection Process:\n",
    "1. **User Registration**: Users register on the MovieLens website to rate movies and provide feedback.\n",
    "2. **Rating Process**: Users rate movies on a scale (commonly 1 to 5 stars), and this data is collected for the recommendation system.\n",
    "3. **Data Aggregation**: GroupLens Research aggregates the ratings and movie information into publicly available datasets."
   ]
  },
  {
   "cell_type": "markdown",
   "metadata": {},
   "source": [
    "### Data Description\n",
    "The MovieLens dataset is consists of four separate files:\n",
    "\n",
    "#### 1. **Ratings Data (`ratings.csv`)**\n",
    "\n",
    "- This dataset contains the primary information used to build the recommendation system with 100,000 rows and 4 columns Each row represents a user's rating for a specific movie, where:\n",
    "  - `userId`: Unique identifier for each user.\n",
    "  - `movieId`: Unique identifier for each movie.\n",
    "  - `rating`: User’s rating of the movie on a scale from 0.5 to 5.0 (in increments of 0.5).\n",
    "  - `timestamp`: The time when the rating was provided.\n",
    "  \n",
    "\n",
    "#### 2. **Movies Data (`movies.csv`)**\n",
    "- This dataset provides details on movies with 1,682 rows and 3 columns:\n",
    "  - `movieId`: Unique identifier for each movie (matches the `movieId` in ratings).\n",
    "  - `title`: Name of the movie.\n",
    "  - `genres`: Movie genres (a movie can belong to multiple genres).\n",
    "\n",
    "#### 3. **Tags Data (`tags.csv`)**\n",
    "- This dataset contains user-defined tags applied to movies with 1,000 rows and 3 columns. Each row provides:\n",
    "  - `userId`: Identifier for the user who tagged the movie.\n",
    "  - `movieId`: Identifier for the movie tagged (corresponds to the `movieId` in the ratings and movies datasets).\n",
    "  - `tag`: User-generated tag for the movie (e.g., \"funny\", \"action-packed\", \"classic\").\n",
    "  - `timestamp`: The time when the tag was provided.\n",
    "- Tags can provide additional insights into user perceptions, useful for hybrid or content-based recommendation systems.\n",
    "\n",
    "#### 4. **Links Data (`links.csv`)**\n",
    "- This dataset links movies to external sources with 1,000 rows and 4 columns:\n",
    "  - `movieId`: Unique identifier for each movie (matches `movieId` in ratings and movies datasets).\n",
    "  - `imdbId`: Identifier for the movie in the Internet Movie Database (IMDb).\n",
    "  - `tmdbId`: Identifier for the movie in The Movie Database (TMDb).\n",
    "- While not directly used in the recommendation system, this data can extend the system by connecting it to external movie databases for additional information.\n"
   ]
  }
 ],
 "metadata": {
  "language_info": {
   "name": "python"
  }
 },
 "nbformat": 4,
 "nbformat_minor": 2
}
