{
 "cells": [
  {
   "cell_type": "markdown",
   "metadata": {},
   "source": [
    "# MOVIE RECOMMENDATIONS SYSTEMS"
   ]
  },
  {
   "cell_type": "markdown",
   "metadata": {},
   "source": [
    "## BUSINESS UNDERSTANDING"
   ]
  },
  {
   "cell_type": "markdown",
   "metadata": {},
   "source": [
    "### Project Overview\n",
    "The primary objective of this project is to develop a movie recommendation system that provides users with a list of the top 5 movie recommendations based on their previous ratings. By analyzing user preferences and movie ratings, the model will suggest movies that a user is likely to enjoy, helping them discover new content based on their viewing history therefore addressing the problem of content overload users face on streaming platforms."
   ]
  },
  {
   "cell_type": "markdown",
   "metadata": {},
   "source": [
    "### Business Problem\n",
    "In the current entertainment industry where users are overwhelmed by the overabundance volume of available content,users often feel overwhelmed by the number of movie choices. Providing personalized movie recommendations is critical to ensuring users stay engaged and reduce time spent searching for the content. A well designed recommendation system helps solve this problem by analyzing user behavior and movie preferences, ultimately improving user satisfaction, increasing engagement with the platform and optimizing content discovery. This project will create a recommendation model using collaborative filtering, which suggests movies to users based on how similar their preferences are to other users."
   ]
  },
  {
   "cell_type": "markdown",
   "metadata": {},
   "source": [
    "### Stakeholders\n",
    "- **Online Movie Streaming Platforms**:(e.g., Netflix, Amazon Prime) looking to enhance their user experience by providing personalized movie recommendations to retain users and increase viewing time.\n",
    "  \n",
    "- **Movie Rating Websites**:(e.g., IMDb, Rotten Tomatoes) aiming to suggest relevant movies to users based on their previous ratings to drive engagement and reviews."
   ]
  }
 ],
 "metadata": {
  "language_info": {
   "name": "python"
  }
 },
 "nbformat": 4,
 "nbformat_minor": 2
}
