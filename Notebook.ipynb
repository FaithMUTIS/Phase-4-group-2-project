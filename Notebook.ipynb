{
 "cells": [
  {
   "cell_type": "markdown",
   "metadata": {},
   "source": [
    "# MOVIE RECOMMENDATIONS SYSTEMS"
   ]
  },
  {
   "cell_type": "markdown",
   "metadata": {},
   "source": [
    "## BUSINESS UNDERSTANDING"
   ]
  },
  {
   "cell_type": "markdown",
   "metadata": {},
   "source": [
    "### Project Overview\n",
    "The primary objective of this project is to develop a movie recommendation system that provides users with a list of the top 5 movie recommendations based on their previous ratings. By analyzing user preferences and movie ratings, the model will suggest movies that a user is likely to enjoy, helping them discover new content based on their viewing history therefore addressing the problem of content overload users face on streaming platforms."
   ]
  },
  {
   "cell_type": "markdown",
   "metadata": {},
   "source": [
    "### Business Problem\n",
    "In the current entertainment industry where users are overwhelmed by the overabundance volume of available content,users often feel overwhelmed by the number of movie choices. Providing personalized movie recommendations is critical to ensuring users stay engaged and reduce time spent searching for the content. A well designed recommendation system helps solve this problem by analyzing user behavior and movie preferences, ultimately improving user satisfaction, increasing engagement with the platform and optimizing content discovery. This project aims to create a recommendation system to recommend movies to users in a personalized manner based on their previous viewing and rating history. Generally, the recommendation system should answer the following:\n",
    "- How can top 5 movie recommendations be generated for each user based on their past ratings?\n",
    "- How can recommendations be improved for new users or new movies with limited rating data?\n",
    "\n",
    "By implementing a recommendation system using collaborative filtering, *the project aims to learn from user interactions with movies (ratings) and predict preferences*. To further address situations where there is not enough rating data (the cold start problem), a hybrid approach incorporating content-based filtering will be explored. Finally, evaluation metrics such as RMSE and MAE will be used to gauge the accuracy of the predictions.\n"
   ]
  },
  {
   "cell_type": "markdown",
   "metadata": {},
   "source": [
    "### Stakeholders\n",
    "- **Online Movie Streaming Platforms**:(e.g., Netflix, Amazon Prime) looking to enhance their user experience by providing personalized movie recommendations to retain users and increase viewing time.\n",
    "  \n",
    "- **Movie Rating Websites**:(e.g., IMDb, Rotten Tomatoes) aiming to suggest relevant movies to users based on their previous ratings to drive engagement and reviews."
   ]
  },
  {
   "cell_type": "markdown",
   "metadata": {},
   "source": [
    "## DATA UNDERSTANDING"
   ]
  },
  {
   "cell_type": "markdown",
   "metadata": {},
   "source": [
    "### Data Overview\n",
    "The MovieLens dataset provided by GroupLens is used for this recommendation system project. It contains over 100,000 movie ratings from 943 users and 1,682 movies. The data spans several decades, capturing diverse user tastes and preferences."
   ]
  },
  {
   "cell_type": "markdown",
   "metadata": {},
   "source": [
    "### Data Sources and Collection\n",
    "- Sources include:\n",
    "1. **MovieLens Website**: The dataset is sourced from the MovieLens website, a movie recommendation service by GroupLens Research at the       University of Minnesota.\n",
    "2. **User Ratings**: It includes user-generated ratings for movies, reflecting user preferences and opinions.\n",
    "3. **Movie Information**: The dataset provides information about movies, including titles, genres, and additional metadata.\n",
    "\n",
    "- Data Collection Process:\n",
    "1. **User Registration**: Users register on the MovieLens website to rate movies and provide feedback.\n",
    "2. **Rating Process**: Users rate movies on a scale (commonly 1 to 5 stars), and this data is collected for the recommendation system.\n",
    "3. **Data Aggregation**: GroupLens Research aggregates the ratings and movie information into publicly available datasets."
   ]
  },
  {
   "cell_type": "markdown",
   "metadata": {},
   "source": [
    "### Data Description\n",
    "The MovieLens dataset is consists of four separate files:\n",
    "\n",
    "#### 1. **Ratings Data (`ratings.csv`)**\n",
    "\n",
    "- This dataset contains the primary information used to build the recommendation system with 100,000 rows and 4 columns Each row represents a user's rating for a specific movie, where:\n",
    "  - `userId`: Unique identifier for each user.\n",
    "  - `movieId`: Unique identifier for each movie.\n",
    "  - `rating`: User’s rating of the movie on a scale from 0.5 to 5.0 (in increments of 0.5).\n",
    "  - `timestamp`: The time when the rating was provided.\n",
    "  \n",
    "\n",
    "#### 2. **Movies Data (`movies.csv`)**\n",
    "- This dataset provides details on movies with 1,682 rows and 3 columns:\n",
    "  - `movieId`: Unique identifier for each movie (matches the `movieId` in ratings).\n",
    "  - `title`: Name of the movie.\n",
    "  - `genres`: Movie genres (a movie can belong to multiple genres).\n",
    "\n",
    "#### 3. **Tags Data (`tags.csv`)**\n",
    "- This dataset contains user-defined tags applied to movies with 1,000 rows and 3 columns. Each row provides:\n",
    "  - `userId`: Identifier for the user who tagged the movie.\n",
    "  - `movieId`: Identifier for the movie tagged (corresponds to the `movieId` in the ratings and movies datasets).\n",
    "  - `tag`: User-generated tag for the movie (e.g., \"funny\", \"action-packed\", \"classic\").\n",
    "  - `timestamp`: The time when the tag was provided.\n",
    "- Tags can provide additional insights into user perceptions, useful for hybrid or content-based recommendation systems.\n",
    "\n",
    "#### 4. **Links Data (`links.csv`)**\n",
    "- This dataset links movies to external sources with 1,000 rows and 4 columns:\n",
    "  - `movieId`: Unique identifier for each movie (matches `movieId` in ratings and movies datasets).\n",
    "  - `imdbId`: Identifier for the movie in the Internet Movie Database (IMDb).\n",
    "  - `tmdbId`: Identifier for the movie in The Movie Database (TMDb).\n",
    "- While not directly used in the recommendation system, this data can extend the system by connecting it to external movie databases for additional information.\n"
   ]
  },
  {
   "cell_type": "markdown",
   "metadata": {},
   "source": [
    "### Data Exploration"
   ]
  },
  {
   "cell_type": "code",
   "execution_count": 24,
   "metadata": {},
   "outputs": [],
   "source": [
    "# Import necessary libaries\n",
    "\n",
    "import pandas as pd\n",
    "import numpy as np\n",
    "import matplotlib.pyplot as plt\n",
    "%matplotlib inline\n",
    "import seaborn as sns\n",
    "\n",
    "# Load the datasets\n",
    "\n",
    "ratings = pd.read_csv('ratings.csv')\n",
    "movies = pd.read_csv('movies.csv')\n",
    "tags = pd.read_csv('tags.csv')\n",
    "links = pd.read_csv('links.csv')"
   ]
  },
  {
   "cell_type": "markdown",
   "metadata": {},
   "source": [
    "#### Data Overview"
   ]
  },
  {
   "cell_type": "code",
   "execution_count": 25,
   "metadata": {},
   "outputs": [
    {
     "name": "stdout",
     "output_type": "stream",
     "text": [
      "Ratings Data Overview:\n",
      "   userId  movieId  rating  timestamp\n",
      "0       1        1     4.0  964982703\n",
      "1       1        3     4.0  964981247\n",
      "2       1        6     4.0  964982224\n",
      "3       1       47     5.0  964983815\n",
      "4       1       50     5.0  964982931 \n",
      "\n",
      "Movies Data Overview:\n",
      "   movieId                               title  \\\n",
      "0        1                    Toy Story (1995)   \n",
      "1        2                      Jumanji (1995)   \n",
      "2        3             Grumpier Old Men (1995)   \n",
      "3        4            Waiting to Exhale (1995)   \n",
      "4        5  Father of the Bride Part II (1995)   \n",
      "\n",
      "                                        genres  \n",
      "0  Adventure|Animation|Children|Comedy|Fantasy  \n",
      "1                   Adventure|Children|Fantasy  \n",
      "2                               Comedy|Romance  \n",
      "3                         Comedy|Drama|Romance  \n",
      "4                                       Comedy   \n",
      "\n",
      "Tags Data Overview:\n",
      "   userId  movieId              tag   timestamp\n",
      "0       2    60756            funny  1445714994\n",
      "1       2    60756  Highly quotable  1445714996\n",
      "2       2    60756     will ferrell  1445714992\n",
      "3       2    89774     Boxing story  1445715207\n",
      "4       2    89774              MMA  1445715200 \n",
      "\n",
      "Links Data Overview:\n",
      "   movieId  imdbId   tmdbId\n",
      "0        1  114709    862.0\n",
      "1        2  113497   8844.0\n",
      "2        3  113228  15602.0\n",
      "3        4  114885  31357.0\n",
      "4        5  113041  11862.0 \n",
      "\n"
     ]
    }
   ],
   "source": [
    "\n",
    "# Display the first five rows of the datasets\n",
    "\n",
    "print(\"Ratings Data Overview:\")\n",
    "print(ratings.head(), \"\\n\")\n",
    "\n",
    "print(\"Movies Data Overview:\")\n",
    "print(movies.head(), \"\\n\")\n",
    "\n",
    "print(\"Tags Data Overview:\")\n",
    "print(tags.head(), \"\\n\")\n",
    "\n",
    "print(\"Links Data Overview:\")\n",
    "print(links.head(), \"\\n\")"
   ]
  },
  {
   "cell_type": "code",
   "execution_count": 26,
   "metadata": {},
   "outputs": [
    {
     "name": "stdout",
     "output_type": "stream",
     "text": [
      "Ratings Data Overview:\n",
      "        userId  movieId  rating   timestamp\n",
      "100831     610   166534     4.0  1493848402\n",
      "100832     610   168248     5.0  1493850091\n",
      "100833     610   168250     5.0  1494273047\n",
      "100834     610   168252     5.0  1493846352\n",
      "100835     610   170875     3.0  1493846415 \n",
      "\n",
      "Movies Data Overview:\n",
      "      movieId                                      title  \\\n",
      "9737   193581  Black Butler: Book of the Atlantic (2017)   \n",
      "9738   193583               No Game No Life: Zero (2017)   \n",
      "9739   193585                               Flint (2017)   \n",
      "9740   193587        Bungo Stray Dogs: Dead Apple (2018)   \n",
      "9741   193609        Andrew Dice Clay: Dice Rules (1991)   \n",
      "\n",
      "                               genres  \n",
      "9737  Action|Animation|Comedy|Fantasy  \n",
      "9738         Animation|Comedy|Fantasy  \n",
      "9739                            Drama  \n",
      "9740                 Action|Animation  \n",
      "9741                           Comedy   \n",
      "\n",
      "Tags Data Overview:\n",
      "      userId  movieId               tag   timestamp\n",
      "3678     606     7382         for katie  1171234019\n",
      "3679     606     7936           austere  1173392334\n",
      "3680     610     3265            gun fu  1493843984\n",
      "3681     610     3265  heroic bloodshed  1493843978\n",
      "3682     610   168248  Heroic Bloodshed  1493844270 \n",
      "\n",
      "Links Data Overview:\n",
      "      movieId   imdbId    tmdbId\n",
      "9737   193581  5476944  432131.0\n",
      "9738   193583  5914996  445030.0\n",
      "9739   193585  6397426  479308.0\n",
      "9740   193587  8391976  483455.0\n",
      "9741   193609   101726   37891.0 \n",
      "\n"
     ]
    }
   ],
   "source": [
    "# Display the last five rows of the datasets\n",
    "\n",
    "print(\"Ratings Data Overview:\")\n",
    "print(ratings.tail(), \"\\n\")\n",
    "\n",
    "print(\"Movies Data Overview:\")\n",
    "print(movies.tail(), \"\\n\")\n",
    "\n",
    "print(\"Tags Data Overview:\")\n",
    "print(tags.tail(), \"\\n\")\n",
    "\n",
    "print(\"Links Data Overview:\")\n",
    "print(links.tail(), \"\\n\")"
   ]
  },
  {
   "cell_type": "code",
   "execution_count": 27,
   "metadata": {},
   "outputs": [
    {
     "name": "stdout",
     "output_type": "stream",
     "text": [
      "Ratings Data:\n",
      "(100836, 4)\n",
      "<class 'pandas.core.frame.DataFrame'>\n",
      "RangeIndex: 100836 entries, 0 to 100835\n",
      "Data columns (total 4 columns):\n",
      " #   Column     Non-Null Count   Dtype  \n",
      "---  ------     --------------   -----  \n",
      " 0   userId     100836 non-null  int64  \n",
      " 1   movieId    100836 non-null  int64  \n",
      " 2   rating     100836 non-null  float64\n",
      " 3   timestamp  100836 non-null  int64  \n",
      "dtypes: float64(1), int64(3)\n",
      "memory usage: 3.1 MB\n",
      "None\n",
      "\n",
      "Movies Data:\n",
      "(9742, 3)\n",
      "<class 'pandas.core.frame.DataFrame'>\n",
      "RangeIndex: 9742 entries, 0 to 9741\n",
      "Data columns (total 3 columns):\n",
      " #   Column   Non-Null Count  Dtype \n",
      "---  ------   --------------  ----- \n",
      " 0   movieId  9742 non-null   int64 \n",
      " 1   title    9742 non-null   object\n",
      " 2   genres   9742 non-null   object\n",
      "dtypes: int64(1), object(2)\n",
      "memory usage: 228.5+ KB\n",
      "None\n",
      "\n",
      "Tags Data:\n",
      "(3683, 4)\n",
      "<class 'pandas.core.frame.DataFrame'>\n",
      "RangeIndex: 3683 entries, 0 to 3682\n",
      "Data columns (total 4 columns):\n",
      " #   Column     Non-Null Count  Dtype \n",
      "---  ------     --------------  ----- \n",
      " 0   userId     3683 non-null   int64 \n",
      " 1   movieId    3683 non-null   int64 \n",
      " 2   tag        3683 non-null   object\n",
      " 3   timestamp  3683 non-null   int64 \n",
      "dtypes: int64(3), object(1)\n",
      "memory usage: 115.2+ KB\n",
      "None\n",
      "\n",
      "Links Data:\n",
      "(9742, 3)\n",
      "<class 'pandas.core.frame.DataFrame'>\n",
      "RangeIndex: 9742 entries, 0 to 9741\n",
      "Data columns (total 3 columns):\n",
      " #   Column   Non-Null Count  Dtype  \n",
      "---  ------   --------------  -----  \n",
      " 0   movieId  9742 non-null   int64  \n",
      " 1   imdbId   9742 non-null   int64  \n",
      " 2   tmdbId   9734 non-null   float64\n",
      "dtypes: float64(1), int64(2)\n",
      "memory usage: 228.5 KB\n",
      "None\n"
     ]
    }
   ],
   "source": [
    "# Check the shape and info of each dataset\n",
    "# Ratings Data\n",
    "print(\"Ratings Data:\")\n",
    "print(ratings.shape)\n",
    "print(ratings.info())\n",
    "\n",
    "# Movies Data\n",
    "print(\"\\nMovies Data:\")\n",
    "print(movies.shape)\n",
    "print(movies.info())\n",
    "\n",
    "# Tags Data\n",
    "print(\"\\nTags Data:\")\n",
    "print(tags.shape)\n",
    "print(tags.info())\n",
    "\n",
    "# Links Data\n",
    "print(\"\\nLinks Data:\")\n",
    "print(links.shape)\n",
    "print(links.info())\n"
   ]
  },
  {
   "cell_type": "code",
   "execution_count": 28,
   "metadata": {},
   "outputs": [
    {
     "name": "stdout",
     "output_type": "stream",
     "text": [
      "\n",
      "Descriptive Statistics:\n",
      "Ratings:\n",
      "               userId        movieId         rating     timestamp\n",
      "count  100836.000000  100836.000000  100836.000000  1.008360e+05\n",
      "mean      326.127564   19435.295718       3.501557  1.205946e+09\n",
      "std       182.618491   35530.987199       1.042529  2.162610e+08\n",
      "min         1.000000       1.000000       0.500000  8.281246e+08\n",
      "25%       177.000000    1199.000000       3.000000  1.019124e+09\n",
      "50%       325.000000    2991.000000       3.500000  1.186087e+09\n",
      "75%       477.000000    8122.000000       4.000000  1.435994e+09\n",
      "max       610.000000  193609.000000       5.000000  1.537799e+09\n",
      "\n",
      "Movies:\n",
      "              movieId\n",
      "count    9742.000000\n",
      "mean    42200.353623\n",
      "std     52160.494854\n",
      "min         1.000000\n",
      "25%      3248.250000\n",
      "50%      7300.000000\n",
      "75%     76232.000000\n",
      "max    193609.000000\n",
      "\n",
      "Tags:\n",
      "             userId        movieId     timestamp\n",
      "count  3683.000000    3683.000000  3.683000e+03\n",
      "mean    431.149335   27252.013576  1.320032e+09\n",
      "std     158.472553   43490.558803  1.721025e+08\n",
      "min       2.000000       1.000000  1.137179e+09\n",
      "25%     424.000000    1262.500000  1.137521e+09\n",
      "50%     474.000000    4454.000000  1.269833e+09\n",
      "75%     477.000000   39263.000000  1.498457e+09\n",
      "max     610.000000  193565.000000  1.537099e+09\n",
      "\n",
      "Links:\n",
      "              movieId        imdbId         tmdbId\n",
      "count    9742.000000  9.742000e+03    9734.000000\n",
      "mean    42200.353623  6.771839e+05   55162.123793\n",
      "std     52160.494854  1.107228e+06   93653.481487\n",
      "min         1.000000  4.170000e+02       2.000000\n",
      "25%      3248.250000  9.518075e+04    9665.500000\n",
      "50%      7300.000000  1.672605e+05   16529.000000\n",
      "75%     76232.000000  8.055685e+05   44205.750000\n",
      "max    193609.000000  8.391976e+06  525662.000000\n"
     ]
    }
   ],
   "source": [
    "# Descriptive Statistics\n",
    "\n",
    "print(\"\\nDescriptive Statistics:\")\n",
    "print(\"Ratings:\\n\", ratings.describe())\n",
    "print(\"\\nMovies:\\n\", movies.describe())\n",
    "print(\"\\nTags:\\n\", tags.describe()) \n",
    "print(\"\\nLinks:\\n\", links.describe())  \n"
   ]
  },
  {
   "cell_type": "code",
   "execution_count": 29,
   "metadata": {},
   "outputs": [
    {
     "name": "stdout",
     "output_type": "stream",
     "text": [
      "\n",
      "Unique Counts in Ratings Data:\n",
      "610 unique users\n",
      "9724 unique movies\n",
      "\n",
      "Unique Counts in Movies Data:\n",
      "9742 unique movies\n",
      "951 unique genres\n",
      "\n",
      "Unique Counts in Tags Data:\n",
      "58 unique users\n",
      "1572 unique movies\n",
      "1589 unique tags\n",
      "\n",
      "Unique Counts in Links Data:\n",
      "9742 unique movies\n"
     ]
    }
   ],
   "source": [
    "# Unique counts\n",
    "# Check the unique counts for key columns in each dataset.\n",
    "\n",
    "print(\"\\nUnique Counts in Ratings Data:\")\n",
    "print(ratings['userId'].nunique(), \"unique users\")\n",
    "print(ratings['movieId'].nunique(), \"unique movies\")\n",
    "\n",
    "print(\"\\nUnique Counts in Movies Data:\")\n",
    "print(movies['movieId'].nunique(), \"unique movies\")\n",
    "print(movies['genres'].nunique(), \"unique genres\")\n",
    "\n",
    "print(\"\\nUnique Counts in Tags Data:\")\n",
    "print(tags['userId'].nunique(), \"unique users\")\n",
    "print(tags['movieId'].nunique(), \"unique movies\")\n",
    "print(tags['tag'].nunique(), \"unique tags\")\n",
    "\n",
    "print(\"\\nUnique Counts in Links Data:\")\n",
    "print(links['movieId'].nunique(), \"unique movies\")\n"
   ]
  },
  {
   "cell_type": "markdown",
   "metadata": {},
   "source": [
    "#### Data Distribution"
   ]
  },
  {
   "cell_type": "code",
   "execution_count": 30,
   "metadata": {},
   "outputs": [
    {
     "data": {
      "image/png": "[encoded data removed]",
      "text/plain": [
       "<Figure size 576x360 with 1 Axes>"
      ]
     },
     "metadata": {
      "needs_background": "light"
     },
     "output_type": "display_data"
    }
   ],
   "source": [
    "# Distribution of Ratings\n",
    "\n",
    "plt.figure(figsize=(8, 5))\n",
    "sns.countplot(x='rating', data=ratings, palette='viridis')\n",
    "plt.title('Distribution of Movie Ratings')\n",
    "plt.xlabel('Rating')\n",
    "plt.ylabel('Count')\n",
    "plt.show()"
   ]
  },
  {
   "cell_type": "code",
   "execution_count": 31,
   "metadata": {},
   "outputs": [
    {
     "data": {
      "image/png": "[encoded data removed]",
      "text/plain": [
       "<Figure size 576x360 with 1 Axes>"
      ]
     },
     "metadata": {
      "needs_background": "light"
     },
     "output_type": "display_data"
    }
   ],
   "source": [
    "# Distribution of Movies by Genres\n",
    "\n",
    "movies['genre_count'] = movies['genres'].apply(lambda x: len(x.split('|')))\n",
    "plt.figure(figsize=(8, 5))\n",
    "sns.countplot(x='genre_count', data=movies, palette='magma')\n",
    "plt.title('Number of Genres per Movie')\n",
    "plt.xlabel('Number of Genres')\n",
    "plt.ylabel('Count of Movies')\n",
    "plt.show()"
   ]
  },
  {
   "cell_type": "code",
   "execution_count": 32,
   "metadata": {},
   "outputs": [
    {
     "data": {
      "image/png": "[encoded data removed]",
      "text/plain": [
       "<Figure size 864x432 with 1 Axes>"
      ]
     },
     "metadata": {
      "needs_background": "light"
     },
     "output_type": "display_data"
    }
   ],
   "source": [
    "# Display the most common genres\n",
    "\n",
    "genre_list = '|'.join(movies['genres'].tolist()).split('|')\n",
    "genre_count = pd.Series(genre_list).value_counts()\n",
    "\n",
    "plt.figure(figsize=(12, 6))\n",
    "sns.barplot(x=genre_count.index, y=genre_count.values, palette='coolwarm')\n",
    "plt.title('Most Common Genres')\n",
    "plt.xlabel('Genre')\n",
    "plt.ylabel('Frequency')\n",
    "plt.xticks(rotation=45)\n",
    "plt.show()\n"
   ]
  },
  {
   "cell_type": "code",
   "execution_count": 33,
   "metadata": {},
   "outputs": [
    {
     "data": {
      "image/png": "[encoded data removed]",
      "text/plain": [
       "<Figure size 720x432 with 1 Axes>"
      ]
     },
     "metadata": {
      "needs_background": "light"
     },
     "output_type": "display_data"
    }
   ],
   "source": [
    "# Genre Analysis - Analyze the genre distribution in the movies dataset.\n",
    "\n",
    "# Count of each genre\n",
    "genre_counts = movies['genres'].str.get_dummies(sep='|').sum().sort_values(ascending=False)\n",
    "\n",
    "plt.figure(figsize=(10, 6))\n",
    "genre_counts.plot(kind='bar')\n",
    "plt.title('Genre Distribution')\n",
    "plt.xlabel('Genres')\n",
    "plt.ylabel('Count')\n",
    "plt.xticks(rotation=45)\n",
    "plt.show()\n"
   ]
  },
  {
   "cell_type": "code",
   "execution_count": 34,
   "metadata": {},
   "outputs": [
    {
     "data": {
      "image/png": "[encoded data removed]",
      "text/plain": [
       "<Figure size 720x432 with 1 Axes>"
      ]
     },
     "metadata": {
      "needs_background": "light"
     },
     "output_type": "display_data"
    }
   ],
   "source": [
    "#### Tag Frequency - Check the most common tags in the tags dataset\n",
    "\n",
    "# Most common tags\n",
    "tag_counts = tags['tag'].value_counts().head(10)\n",
    "\n",
    "plt.figure(figsize=(10, 6))\n",
    "tag_counts.plot(kind='bar')\n",
    "plt.title('Top 10 Most Common Tags')\n",
    "plt.xlabel('Tags')\n",
    "plt.ylabel('Frequency')\n",
    "plt.xticks(rotation=45)\n",
    "plt.show()\n"
   ]
  }
 ],
 "metadata": {
  "kernelspec": {
   "display_name": "learn-env",
   "language": "python",
   "name": "python3"
  },
  "language_info": {
   "codemirror_mode": {
    "name": "ipython",
    "version": 3
   },
   "file_extension": ".py",
   "mimetype": "text/x-python",
   "name": "python",
   "nbconvert_exporter": "python",
   "pygments_lexer": "ipython3",
   "version": "3.8.5"
  }
 },
 "nbformat": 4,
 "nbformat_minor": 2
}
