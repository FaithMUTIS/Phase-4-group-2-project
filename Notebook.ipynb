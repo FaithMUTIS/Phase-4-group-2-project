{
 "cells": [
  {
   "cell_type": "markdown",
   "metadata": {},
   "source": [
    "# MOVIE RECOMMENDATIONS SYSTEMS"
   ]
  },
  {
   "cell_type": "markdown",
   "metadata": {},
   "source": [
    "## BUSINESS UNDERSTANDING"
   ]
  },
  {
   "cell_type": "markdown",
   "metadata": {},
   "source": [
    "### Project Overview\n",
    "The primary objective of this project is to develop a movie recommendation system that provides users with a list of the top 5 movie recommendations based on their previous ratings. By analyzing user preferences and movie ratings, the model will suggest movies that a user is likely to enjoy, helping them discover new content based on their viewing history therefore addressing the problem of content overload users face on streaming platforms."
   ]
  },
  {
   "cell_type": "markdown",
   "metadata": {},
   "source": [
    "### Business Problem\n",
    "In the current entertainment industry where users are overwhelmed by the overabundance volume of available content,users often feel overwhelmed by the number of movie choices. Providing personalized movie recommendations is critical to ensuring users stay engaged and reduce time spent searching for the content. A well designed recommendation system helps solve this problem by analyzing user behavior and movie preferences, ultimately improving user satisfaction, increasing engagement with the platform and optimizing content discovery. This project will create a recommendation model using collaborative filtering, which suggests movies to users based on how similar their preferences are to other users."
   ]
  },
  {
   "cell_type": "markdown",
   "metadata": {},
   "source": [
    "### Stakeholders\n",
    "- **Online Movie Streaming Platforms**:(e.g., Netflix, Amazon Prime) looking to enhance their user experience by providing personalized movie recommendations to retain users and increase viewing time.\n",
    "  \n",
    "- **Movie Rating Websites**:(e.g., IMDb, Rotten Tomatoes) aiming to suggest relevant movies to users based on their previous ratings to drive engagement and reviews."
   ]
  },
  {
   "cell_type": "markdown",
   "metadata": {},
   "source": [
    "## DATA UNDERSTANDING"
   ]
  },
  {
   "cell_type": "markdown",
   "metadata": {},
   "source": [
    "### Data Overview\n",
    "The MovieLens dataset provided by GroupLens is used for this recommendation system project. It contains over 100,000 movie ratings from 943 users and 1,682 movies. The data spans several decades, capturing diverse user tastes and preferences."
   ]
  },
  {
   "cell_type": "markdown",
   "metadata": {},
   "source": [
    "### Data Sources and Collection\n",
    "- Sources include:\n",
    "1. **MovieLens Website**: The dataset is sourced from the MovieLens website, a movie recommendation service by GroupLens Research at the       University of Minnesota.\n",
    "2. **User Ratings**: It includes user-generated ratings for movies, reflecting user preferences and opinions.\n",
    "3. **Movie Information**: The dataset provides information about movies, including titles, genres, and additional metadata.\n",
    "\n",
    "- Data Collection Process:\n",
    "1. **User Registration**: Users register on the MovieLens website to rate movies and provide feedback.\n",
    "2. **Rating Process**: Users rate movies on a scale (commonly 1 to 5 stars), and this data is collected for the recommendation system.\n",
    "3. **Data Aggregation**: GroupLens Research aggregates the ratings and movie information into publicly available datasets."
   ]
  }
 ],
 "metadata": {
  "language_info": {
   "name": "python"
  }
 },
 "nbformat": 4,
 "nbformat_minor": 2
}
