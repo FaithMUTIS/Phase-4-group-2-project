{
 "cells": [
  {
   "cell_type": "markdown",
   "metadata": {},
   "source": [
    "# Movie Recommendation Engine"
   ]
  },
  {
   "cell_type": "markdown",
   "metadata": {},
   "source": [
    "## Business Problem\n",
    "\n"
   ]
  },
  {
   "cell_type": "markdown",
   "metadata": {},
   "source": [
    "### We are a streaming service that wants to increase the value of it's service and grow it's user and movie base.\n",
    "\n",
    "Goal: create a recommendation engine that will accurately predict movies that our users will rate highly.\n",
    "\n",
    "Benefits:\n",
    "1. Keeps our existing users coming back\n",
    "    - Recommending movies they like and showing them movies they haven't seen will keep them interested\n",
    "2. Helps identify movies to add to the service\n",
    "    - New content will give users more movies to watch, keeping them on the service longer\n",
    "3. Attracts new users\n",
    "    - A well curated collection of movies will encourage streamers to use our service"
   ]
  },
  {
   "cell_type": "markdown",
   "metadata": {},
   "source": [
    "## The Data\n",
    "\n",
    "The data used in the project is a rating data sets from the MovieLens web site (https://movielens.org) collected by GroupLens Research. The particular dataet used is the ml-latest-small set. \n",
    "\n",
    "This dataset describes 5-star rating and free-text tagging activity from MovieLens, a movie recommendation service. It contains: \n",
    "- 100836 ratings \n",
    "- 3683 tag applications\n",
    "- 9742 movies\n",
    "- 610 users \n",
    "\n",
    "This is a small, development dataset collected between March 29, 1996 and September 24, 2018, and was generated on September 26, 2018. \n",
    "\n",
    "Users were selected at random for inclusion. All selected users had rated at least 20 movies. \n",
    "- Each user is represented by an id, and no other information is provided. \n",
    "\n",
    "The data are contained in the files:\n",
    "- data/links.csv\n",
    "- data/movies.csv\n",
    "- data/ratings.csv \n",
    "- data/tags.csv. "
   ]
  },
  {
   "cell_type": "markdown",
   "metadata": {},
   "source": [
    "# Setup"
   ]
  },
  {
   "cell_type": "markdown",
   "metadata": {},
   "source": [
    "### Import relevant packages"
   ]
  },
  {
   "cell_type": "code",
   "execution_count": 50,
   "metadata": {},
   "outputs": [],
   "source": [
    "import pandas as pd\n",
    "import numpy as np\n",
    "import scipy.stats as stats\n",
    "import statsmodels.api as sm\n",
    "import json\n",
    "\n",
    "from surprise import Reader, Dataset\n",
    "from surprise.model_selection import cross_validate, GridSearchCV\n",
    "from surprise.prediction_algorithms import SVD, KNNWithMeans, KNNBasic, KNNBaseline\n",
    "from surprise.model_selection import train_test_split\n",
    "from surprise import accuracy\n",
    "\n",
    "from sklearn.preprocessing import OneHotEncoder\n",
    "from sklearn.metrics import f1_score, mean_squared_error, r2_score, roc_curve, auc, confusion_matrix, ConfusionMatrixDisplay, accuracy_score, precision_score, recall_score, classification_report\n",
    "\n",
    "import seaborn as sns\n",
    "import matplotlib.pyplot as plt\n",
    "%matplotlib inline"
   ]
  },
  {
   "cell_type": "markdown",
   "metadata": {},
   "source": [
    "# Load and Clean Data"
   ]
  },
  {
   "cell_type": "markdown",
   "metadata": {},
   "source": [
    "Load the raw csv files"
   ]
  },
  {
   "cell_type": "code",
   "execution_count": 51,
   "metadata": {},
   "outputs": [],
   "source": [
    "movies_df = pd.read_csv('data/movies.csv')\n",
    "ratings_df = pd.read_csv('data/ratings.csv')\n",
    "tags_df = pd.read_csv('data/tags.csv')"
   ]
  },
  {
   "cell_type": "markdown",
   "metadata": {},
   "source": [
    "### Movies DataFrame"
   ]
  },
  {
   "cell_type": "code",
   "execution_count": 52,
   "metadata": {
    "scrolled": true
   },
   "outputs": [
    {
     "data": {
      "text/html": [
       "<div>\n",
       "<style scoped>\n",
       "    .dataframe tbody tr th:only-of-type {\n",
       "        vertical-align: middle;\n",
       "    }\n",
       "\n",
       "    .dataframe tbody tr th {\n",
       "        vertical-align: top;\n",
       "    }\n",
       "\n",
       "    .dataframe thead th {\n",
       "        text-align: right;\n",
       "    }\n",
       "</style>\n",
       "<table border=\"1\" class=\"dataframe\">\n",
       "  <thead>\n",
       "    <tr style=\"text-align: right;\">\n",
       "      <th></th>\n",
       "      <th>movieId</th>\n",
       "      <th>title</th>\n",
       "      <th>genres</th>\n",
       "    </tr>\n",
       "  </thead>\n",
       "  <tbody>\n",
       "    <tr>\n",
       "      <th>0</th>\n",
       "      <td>1</td>\n",
       "      <td>Toy Story (1995)</td>\n",
       "      <td>Adventure|Animation|Children|Comedy|Fantasy</td>\n",
       "    </tr>\n",
       "    <tr>\n",
       "      <th>1</th>\n",
       "      <td>2</td>\n",
       "      <td>Jumanji (1995)</td>\n",
       "      <td>Adventure|Children|Fantasy</td>\n",
       "    </tr>\n",
       "    <tr>\n",
       "      <th>2</th>\n",
       "      <td>3</td>\n",
       "      <td>Grumpier Old Men (1995)</td>\n",
       "      <td>Comedy|Romance</td>\n",
       "    </tr>\n",
       "    <tr>\n",
       "      <th>3</th>\n",
       "      <td>4</td>\n",
       "      <td>Waiting to Exhale (1995)</td>\n",
       "      <td>Comedy|Drama|Romance</td>\n",
       "    </tr>\n",
       "    <tr>\n",
       "      <th>4</th>\n",
       "      <td>5</td>\n",
       "      <td>Father of the Bride Part II (1995)</td>\n",
       "      <td>Comedy</td>\n",
       "    </tr>\n",
       "  </tbody>\n",
       "</table>\n",
       "</div>"
      ],
      "text/plain": [
       "   movieId                               title  \\\n",
       "0        1                    Toy Story (1995)   \n",
       "1        2                      Jumanji (1995)   \n",
       "2        3             Grumpier Old Men (1995)   \n",
       "3        4            Waiting to Exhale (1995)   \n",
       "4        5  Father of the Bride Part II (1995)   \n",
       "\n",
       "                                        genres  \n",
       "0  Adventure|Animation|Children|Comedy|Fantasy  \n",
       "1                   Adventure|Children|Fantasy  \n",
       "2                               Comedy|Romance  \n",
       "3                         Comedy|Drama|Romance  \n",
       "4                                       Comedy  "
      ]
     },
     "execution_count": 52,
     "metadata": {},
     "output_type": "execute_result"
    }
   ],
   "source": [
    "movies_df.head()"
   ]
  },
  {
   "cell_type": "markdown",
   "metadata": {},
   "source": [
    "### Ratings DataFrame\n",
    "- drop the timestamp column"
   ]
  },
  {
   "cell_type": "code",
   "execution_count": 53,
   "metadata": {},
   "outputs": [
    {
     "data": {
      "text/html": [
       "<div>\n",
       "<style scoped>\n",
       "    .dataframe tbody tr th:only-of-type {\n",
       "        vertical-align: middle;\n",
       "    }\n",
       "\n",
       "    .dataframe tbody tr th {\n",
       "        vertical-align: top;\n",
       "    }\n",
       "\n",
       "    .dataframe thead th {\n",
       "        text-align: right;\n",
       "    }\n",
       "</style>\n",
       "<table border=\"1\" class=\"dataframe\">\n",
       "  <thead>\n",
       "    <tr style=\"text-align: right;\">\n",
       "      <th></th>\n",
       "      <th>userId</th>\n",
       "      <th>movieId</th>\n",
       "      <th>rating</th>\n",
       "    </tr>\n",
       "  </thead>\n",
       "  <tbody>\n",
       "    <tr>\n",
       "      <th>0</th>\n",
       "      <td>1</td>\n",
       "      <td>1</td>\n",
       "      <td>4.0</td>\n",
       "    </tr>\n",
       "    <tr>\n",
       "      <th>1</th>\n",
       "      <td>1</td>\n",
       "      <td>3</td>\n",
       "      <td>4.0</td>\n",
       "    </tr>\n",
       "    <tr>\n",
       "      <th>2</th>\n",
       "      <td>1</td>\n",
       "      <td>6</td>\n",
       "      <td>4.0</td>\n",
       "    </tr>\n",
       "    <tr>\n",
       "      <th>3</th>\n",
       "      <td>1</td>\n",
       "      <td>47</td>\n",
       "      <td>5.0</td>\n",
       "    </tr>\n",
       "    <tr>\n",
       "      <th>4</th>\n",
       "      <td>1</td>\n",
       "      <td>50</td>\n",
       "      <td>5.0</td>\n",
       "    </tr>\n",
       "  </tbody>\n",
       "</table>\n",
       "</div>"
      ],
      "text/plain": [
       "   userId  movieId  rating\n",
       "0       1        1     4.0\n",
       "1       1        3     4.0\n",
       "2       1        6     4.0\n",
       "3       1       47     5.0\n",
       "4       1       50     5.0"
      ]
     },
     "execution_count": 53,
     "metadata": {},
     "output_type": "execute_result"
    }
   ],
   "source": [
    "ratings = ratings_df.drop(columns=['timestamp'], axis=1)\n",
    "ratings.head()"
   ]
  },
  {
   "cell_type": "markdown",
   "metadata": {},
   "source": [
    "### Tags DataFrame\n",
    "- drop the timestamp column"
   ]
  },
  {
   "cell_type": "code",
   "execution_count": 54,
   "metadata": {},
   "outputs": [
    {
     "data": {
      "text/html": [
       "<div>\n",
       "<style scoped>\n",
       "    .dataframe tbody tr th:only-of-type {\n",
       "        vertical-align: middle;\n",
       "    }\n",
       "\n",
       "    .dataframe tbody tr th {\n",
       "        vertical-align: top;\n",
       "    }\n",
       "\n",
       "    .dataframe thead th {\n",
       "        text-align: right;\n",
       "    }\n",
       "</style>\n",
       "<table border=\"1\" class=\"dataframe\">\n",
       "  <thead>\n",
       "    <tr style=\"text-align: right;\">\n",
       "      <th></th>\n",
       "      <th>userId</th>\n",
       "      <th>movieId</th>\n",
       "      <th>tag</th>\n",
       "    </tr>\n",
       "  </thead>\n",
       "  <tbody>\n",
       "    <tr>\n",
       "      <th>0</th>\n",
       "      <td>2</td>\n",
       "      <td>60756</td>\n",
       "      <td>funny</td>\n",
       "    </tr>\n",
       "    <tr>\n",
       "      <th>1</th>\n",
       "      <td>2</td>\n",
       "      <td>60756</td>\n",
       "      <td>Highly quotable</td>\n",
       "    </tr>\n",
       "    <tr>\n",
       "      <th>2</th>\n",
       "      <td>2</td>\n",
       "      <td>60756</td>\n",
       "      <td>will ferrell</td>\n",
       "    </tr>\n",
       "    <tr>\n",
       "      <th>3</th>\n",
       "      <td>2</td>\n",
       "      <td>89774</td>\n",
       "      <td>Boxing story</td>\n",
       "    </tr>\n",
       "    <tr>\n",
       "      <th>4</th>\n",
       "      <td>2</td>\n",
       "      <td>89774</td>\n",
       "      <td>MMA</td>\n",
       "    </tr>\n",
       "  </tbody>\n",
       "</table>\n",
       "</div>"
      ],
      "text/plain": [
       "   userId  movieId              tag\n",
       "0       2    60756            funny\n",
       "1       2    60756  Highly quotable\n",
       "2       2    60756     will ferrell\n",
       "3       2    89774     Boxing story\n",
       "4       2    89774              MMA"
      ]
     },
     "execution_count": 54,
     "metadata": {},
     "output_type": "execute_result"
    }
   ],
   "source": [
    "tags = tags_df.drop(columns=['timestamp'], axis=1)\n",
    "tags.head()"
   ]
  },
  {
   "cell_type": "markdown",
   "metadata": {},
   "source": [
    "## Total Dataset Visualizations\n",
    "Visualizations to gain an comprehensive view of the data"
   ]
  },
  {
   "cell_type": "markdown",
   "metadata": {},
   "source": [
    "### Most common tags\n",
    "- Look at the tags DataFrame to determine which tags occur the most often"
   ]
  },
  {
   "cell_type": "code",
   "execution_count": 55,
   "metadata": {},
   "outputs": [
    {
     "data": {
      "image/png": "[encoded data removed]",
      "text/plain": [
       "<Figure size 1080x360 with 1 Axes>"
      ]
     },
     "metadata": {
      "needs_background": "light"
     },
     "output_type": "display_data"
    }
   ],
   "source": [
    "# group tags together and count their number of occurances. Sort by most common\n",
    "tags_group = tags.drop(columns='userId', axis=1)\n",
    "tags_group = tags_group.groupby('tag').count().sort_values(by='movieId', ascending=False)\n",
    "tags_group = tags_group.rename(columns={'movieId': 'Count'})\n",
    "top_tag_groups = tags_group[:10]\n",
    "\n",
    "# plot the 10 most common tags\n",
    "plt.figure(figsize=(15,5))\n",
    "sns.barplot(data=top_tag_groups, x='Count', y=top_tag_groups.index, palette='flare')\n",
    "plt.yticks(fontsize=15)\n",
    "plt.xlabel('Number of Movies with Tag', fontsize=18)\n",
    "plt.ylabel('Tag', fontsize=18)\n",
    "plt.title('Most Common Tags', fontsize=20)\n",
    "plt.grid()"
   ]
  },
  {
   "cell_type": "markdown",
   "metadata": {},
   "source": [
    "### Tags visualization with \"In Netflix queue\" removed\n",
    "The \"In Netflix queue\" tag does not give much information about the movie itself, rather how it was positioned on their page. Removing this tag will bring the remaining tags into the same scale and keep tags related to the content of the movie."
   ]
  },
  {
   "cell_type": "code",
   "execution_count": 56,
   "metadata": {},
   "outputs": [
    {
     "data": {
      "image/png": "[encoded data removed]",
      "text/plain": [
       "<Figure size 1080x360 with 1 Axes>"
      ]
     },
     "metadata": {
      "needs_background": "light"
     },
     "output_type": "display_data"
    }
   ],
   "source": [
    "# plot the 10 most common tags, removing the tag \"In Netflix Queue\"\n",
    "top_tag_groups = tags_group[1:11]\n",
    "\n",
    "plt.figure(figsize=(15,5))\n",
    "sns.barplot(data=top_tag_groups, x='Count', y=top_tag_groups.index, palette='flare')\n",
    "plt.yticks(fontsize=15)\n",
    "plt.xlabel('Number of Movies with Tag', fontsize=18)\n",
    "plt.ylabel('', fontsize=18)\n",
    "plt.title('Most Common Tags', fontsize=20)\n",
    "plt.grid()"
   ]
  },
  {
   "cell_type": "markdown",
   "metadata": {},
   "source": [
    "#### Interpretation: \n",
    "The most common of tags represent a diverse set of descriptors that indicate that there is a wide range of movies that will appeal to many movie preferences."
   ]
  },
  {
   "cell_type": "markdown",
   "metadata": {},
   "source": [
    "### Genre counts\n",
    "- Determine how many movies belonging to each genre exist in the data set"
   ]
  },
  {
   "cell_type": "code",
   "execution_count": 57,
   "metadata": {},
   "outputs": [
    {
     "data": {
      "image/png": "[encoded data removed]",
      "text/plain": [
       "<Figure size 1080x432 with 1 Axes>"
      ]
     },
     "metadata": {
      "needs_background": "light"
     },
     "output_type": "display_data"
    }
   ],
   "source": [
    "# drop the titles from the dataframe\n",
    "genres = movies_df.drop(columns=['title'], axis=1)\n",
    "\n",
    "# convert genre tags to list\n",
    "genres['genres'] = genres['genres'].map(lambda x: x.split('|'))\n",
    "genres = genres.explode('genres')\n",
    "\n",
    "# group the rows by genre and count the number of occurances, then sort\n",
    "genres_group = genres.groupby('genres').count().sort_values(by='movieId', ascending=False)\n",
    "genres_group = genres_group.rename(columns={'movieId': 'Count'})\n",
    "top_genres_group = genres_group[:20]\n",
    "\n",
    "# plot the top genres\n",
    "plt.figure(figsize=(15,6))\n",
    "sns.barplot(data=top_genres_group, x='Count', y=top_genres_group.index, palette='flare')\n",
    "plt.yticks(fontsize=15)\n",
    "plt.xlabel('Number of Movies in Genre', fontsize=18)\n",
    "plt.ylabel('', fontsize=18)\n",
    "plt.title('Most Common Genres', fontsize=20)\n",
    "plt.grid()"
   ]
  },
  {
   "cell_type": "markdown",
   "metadata": {},
   "source": [
    "#### Interpretation: \n",
    "The most common genres of movies are Drama and Comedy, meaning that those types of movies will be recommended most often. Musical, Western, IMAX, and Film-Noir are less common genres, so those will be rarer amongst the recommendations that we will see."
   ]
  },
  {
   "cell_type": "markdown",
   "metadata": {},
   "source": [
    "### Histogram of Ratings\n",
    "- view the distribution of ratings in the data set"
   ]
  },
  {
   "cell_type": "code",
   "execution_count": 58,
   "metadata": {},
   "outputs": [
    {
     "data": {
      "image/png": "[encoded data removed]",
      "text/plain": [
       "<Figure size 1080x360 with 1 Axes>"
      ]
     },
     "metadata": {
      "needs_background": "light"
     },
     "output_type": "display_data"
    }
   ],
   "source": [
    "# count the number of occurances for each rating\n",
    "ratings_count = ratings.groupby(\"rating\").count()\n",
    "ratings_count.drop(columns=[\"userId\"], axis=1)\n",
    "ratings_count = ratings_count.rename(columns={'movieId': 'Count'})\n",
    "\n",
    "# plot the ratings distribution\n",
    "plt.figure(figsize=(15,5))\n",
    "sns.barplot(data=ratings_count, x=ratings_count.index, y='Count', palette=\"rocket\")\n",
    "plt.yticks(fontsize=15)\n",
    "plt.xlabel('Rating', fontsize=18)\n",
    "plt.ylabel('Number of Occurrances', fontsize=18)\n",
    "plt.title('Ratings Distribution', fontsize=20)\n",
    "plt.grid()"
   ]
  },
  {
   "attachments": {},
   "cell_type": "markdown",
   "metadata": {},
   "source": [
    "#### Interpretation: \n",
    "The users in this dataset tend to be generous in their ratings, meaning more movies with high ratings will be available to recommend and will give us a diverse set of movies."
   ]
  },
  {
   "cell_type": "markdown",
   "metadata": {},
   "source": [
    "## Create a Surprise Dataset from the Ratings DataFrame\n",
    "The DataFrame will be converted to a surprise dataset in order to be compatible with the recommendation model functionality available with the Surprise package."
   ]
  },
  {
   "cell_type": "code",
   "execution_count": 59,
   "metadata": {},
   "outputs": [],
   "source": [
    "reader = Reader()\n",
    "data = Dataset.load_from_df(ratings, reader)"
   ]
  },
  {
   "cell_type": "code",
   "execution_count": 60,
   "metadata": {},
   "outputs": [
    {
     "name": "stdout",
     "output_type": "stream",
     "text": [
      "N users = 610\n",
      "N items = 9724\n"
     ]
    }
   ],
   "source": [
    "dataset = data.build_full_trainset()\n",
    "print(f\"N users = {dataset.n_users}\")\n",
    "print(f\"N items = {dataset.n_items}\")"
   ]
  },
  {
   "cell_type": "markdown",
   "metadata": {},
   "source": [
    "## Separate the data into test and train data"
   ]
  },
  {
   "cell_type": "code",
   "execution_count": 61,
   "metadata": {},
   "outputs": [],
   "source": [
    "trainset, testset = train_test_split(data, test_size=0.2)"
   ]
  },
  {
   "cell_type": "markdown",
   "metadata": {},
   "source": [
    "## Create a function to train and test each KNN method"
   ]
  },
  {
   "cell_type": "markdown",
   "metadata": {},
   "source": [
    "Define the parameter combinations for the KNN methods"
   ]
  },
  {
   "cell_type": "code",
   "execution_count": 62,
   "metadata": {},
   "outputs": [],
   "source": [
    "sim_cos_item = {'params_name': 'cosine item',\n",
    "                'params': {'name': 'cosine', 'user_based': False}\n",
    "               }\n",
    "sim_pearson_item = {'params_name': 'pearson item',\n",
    "                    'params': {'name': 'pearson', 'user_based': False}\n",
    "                   }\n",
    "sim_cos_user = {'params_name': 'cosine user',\n",
    "                'params': {'name': 'cosine', 'user_based': True}\n",
    "                }\n",
    "sim_pearson_user = {'params_name': 'pearson user',\n",
    "                    'params': {'name': 'pearson', 'user_based': True}\n",
    "                    }"
   ]
  },
  {
   "cell_type": "markdown",
   "metadata": {},
   "source": [
    "Define a model to run a KNN method type model and return the error of the model"
   ]
  },
  {
   "cell_type": "code",
   "execution_count": 63,
   "metadata": {},
   "outputs": [],
   "source": [
    "def run_KNN_model(method_type, params):\n",
    "    \"\"\"\n",
    "    function to run k-Nearest Neightbor inspired methods to compare users and items for similarity.\n",
    "    \n",
    "    args: \n",
    "        - method_type: KNN method type to use: KNNBasi, KNNBaseline, or KNNWithMeans\n",
    "        - params: paramters to use in model, including \"name\", and \"user_based\"\n",
    "    returns: \n",
    "        - accuracy_rmse: root mean squared error for the model\n",
    "        - accuracy_mae: mean aboslute error for the model\n",
    "    \"\"\"\n",
    "    # select the KNN method to use\n",
    "    if method_type == 'KNNBasic':\n",
    "        model = KNNBasic(sim_options=params, verbose=False)\n",
    "    elif method_type == 'KNNBaseline':\n",
    "        model = KNNBaseline(sim_options=params, verbose=False)\n",
    "    elif method_type == 'KNNWithMeans':\n",
    "        model = KNNWithMeans(sim_options=params, verbose=False)\n",
    "    else:\n",
    "        return 'not a model'\n",
    "\n",
    "    # fit the model and produce predicitons\n",
    "    model.fit(trainset)\n",
    "    predictions = model.test(testset)\n",
    "    \n",
    "    # calculate error scores\n",
    "    accuracy_rmse = accuracy.rmse(predictions, verbose=False)\n",
    "    accuracy_mae = accuracy.mae(predictions, verbose=False)\n",
    "    \n",
    "    return accuracy_rmse, accuracy_mae"
   ]
  },
  {
   "cell_type": "markdown",
   "metadata": {},
   "source": [
    "# Run several models to determine the most accurate final model\n",
    "\n",
    "Several K-Nearest Neighbor methods will be run in order to determine the method that produces the lowest error. \n",
    "\n",
    "- KNN Basic methods\n",
    "- KNN Baseline methods\n",
    "- KNN With Means methods\n",
    "- Singular Value Decomposition\n",
    "    - using a grid search to determine the optimal parameters"
   ]
  },
  {
   "cell_type": "markdown",
   "metadata": {},
   "source": [
    "## Train and Test KNN Methods"
   ]
  },
  {
   "cell_type": "code",
   "execution_count": 64,
   "metadata": {},
   "outputs": [
    {
     "name": "stdout",
     "output_type": "stream",
     "text": [
      "KNNBasic\n",
      "     pearson user: rmse = 0.9774, mae = 0.7554\n",
      "     pearson item: rmse = 0.9809, mae = 0.7599\n",
      "     cosine user: rmse = 0.9777, mae = 0.7531\n",
      "     cosine item: rmse = 0.9898, mae = 0.7701\n",
      "\n",
      "KNNBaseline\n",
      "     pearson user: rmse = 0.8886, mae = 0.6768\n",
      "     pearson item: rmse = 0.8915, mae = 0.6843\n",
      "     cosine user: rmse = 0.8889, mae = 0.6791\n",
      "     cosine item: rmse = 0.9048, mae = 0.6963\n",
      "\n",
      "KNNWithMeans\n",
      "     pearson user: rmse = 0.9083, mae = 0.6906\n",
      "     pearson item: rmse = 0.9114, mae = 0.6938\n",
      "     cosine user: rmse = 0.9104, mae = 0.6959\n",
      "     cosine item: rmse = 0.9151, mae = 0.6976\n",
      "\n"
     ]
    }
   ],
   "source": [
    "methods = ['KNNBasic', 'KNNBaseline', 'KNNWithMeans']\n",
    "sim_params = [sim_pearson_user, sim_pearson_item, sim_cos_user, sim_cos_item]\n",
    "\n",
    "# loop through method and paramter combinations to run and test 12 KNN models\n",
    "for method in methods:\n",
    "    print(f'{method}')\n",
    "    for sim_param in sim_params:\n",
    "        rmse, mae = run_KNN_model(method, sim_param['params'])\n",
    "        print(f'     {sim_param[\"params_name\"]}: rmse = {round(rmse, 4)}, mae = {round(mae, 4)}')\n",
    "    print('')"
   ]
  },
  {
   "cell_type": "markdown",
   "metadata": {},
   "source": [
    "## Train and Test SVD Methods\n",
    "\n",
    "#### Grid Search\n",
    "A grid search is performed in order to determine to SVD parameters that produce the the lowest error. All combinations of parameters are tested, with the cobmination resulting in the lowest error is returned.\n",
    "\n",
    "#### Grid Search Parameter Selection: \n",
    "The parameters for the grid search were chosen based on the parameters used in the Implementing Recommendation Systems lab completed in phase 4 of the Flatiron Data Science Program. The parameters are an expansion of the range of paramters used in that lab to perform a grid search to optimize the SVD model."
   ]
  },
  {
   "cell_type": "code",
   "execution_count": 65,
   "metadata": {},
   "outputs": [
    {
     "name": "stdout",
     "output_type": "stream",
     "text": [
      "{'rmse': 0.8698588420363329, 'mae': 0.6687449242441417}\n",
      "{'rmse': {'n_factors': 90, 'reg_all': 0.04, 'n_epochs': 10, 'lr_all': 0.01}, 'mae': {'n_factors': 90, 'reg_all': 0.04, 'n_epochs': 10, 'lr_all': 0.01}}\n"
     ]
    }
   ],
   "source": [
    "# define the paramters to use in the grid search\n",
    "grid_search_params = {'n_factors': [30, 40, 50, 60, 70, 80, 90, 100, 110],\n",
    "                      'reg_all': [0.02, 0.04, 0.05, 0.06, 0.07, 0.1],\n",
    "                      'n_epochs': [5, 10],\n",
    "                      'lr_all': [0.005, 0.01]}\n",
    "\n",
    "# perform the grid search to find the optimal SVD paramters and fit the model\n",
    "g_s_svd = GridSearchCV(SVD, param_grid=grid_search_params, n_jobs=-1)\n",
    "g_s_svd.fit(data)\n",
    "\n",
    "print(g_s_svd.best_score)\n",
    "print(g_s_svd.best_params)"
   ]
  },
  {
   "cell_type": "markdown",
   "metadata": {},
   "source": [
    "## Define the Final Model\n",
    "\n",
    "### Metric: RMSE\n",
    "RMSE was chosen as the metric to determine the final, based on the assumption that the error is normal (Gaussian)\n",
    "\n",
    "### Final Model: SVD model with the parameters;\n",
    "    - n_factors = 80\n",
    "    - reg_all = 0.05\n",
    "    - n_epochs = 10\n",
    "    - lr_all = 0.01\n",
    "    \n",
    "This model resulted in the lowest root mean squared error, of 0.8694"
   ]
  },
  {
   "cell_type": "code",
   "execution_count": 66,
   "metadata": {},
   "outputs": [
    {
     "data": {
      "text/plain": [
       "<surprise.prediction_algorithms.matrix_factorization.SVD at 0x27e1a3ac670>"
      ]
     },
     "execution_count": 66,
     "metadata": {},
     "output_type": "execute_result"
    }
   ],
   "source": [
    "# define the best SVD parameters\n",
    "svd_best_rmse = g_s_svd.best_params['rmse']\n",
    "\n",
    "# define and fit the final model\n",
    "final_model = SVD(n_factors=svd_best_rmse ['n_factors'], reg_all=svd_best_rmse ['reg_all'], n_epochs=svd_best_rmse['n_epochs'] , lr_all=svd_best_rmse['lr_all'])\n",
    "final_model.fit(dataset)"
   ]
  },
  {
   "cell_type": "markdown",
   "metadata": {},
   "source": [
    "## Functions for filtering ratings and rankings based on key words\n",
    "\n",
    "These functions will provide the opportunity to filter the movie recommendtions based on key genres and tags associated with a users top rated moves, or based on preferences indicated by the user upon profile creation.\n",
    "\n",
    "Define several functions to filter a user's movie ratings and predictions based on the tags and genres of movies they've rated 4.0 and above"
   ]
  },
  {
   "cell_type": "code",
   "execution_count": 67,
   "metadata": {},
   "outputs": [],
   "source": [
    "def get_user_ratings(ratings, userId):\n",
    "    \"\"\"\n",
    "    function to obtain a DataFrame of ratings made by a specific user\n",
    "    \"\"\"\n",
    "    user_ratings = ratings[ratings.userId == userId]\n",
    "    return user_ratings"
   ]
  },
  {
   "cell_type": "code",
   "execution_count": 68,
   "metadata": {},
   "outputs": [],
   "source": [
    "def look_up_tags(movieId):\n",
    "    \"\"\"\n",
    "    Look up the tags associated with a given movie Id\n",
    "    \"\"\"\n",
    "    tags_list = tags[tags['movieId']==movieId]['tag']\n",
    "    tags_string = []\n",
    "    for tag in tags_list:\n",
    "        tags_string.append(tag)\n",
    "    return list(np.unique(np.array(tags_string)))"
   ]
  },
  {
   "cell_type": "code",
   "execution_count": 69,
   "metadata": {},
   "outputs": [],
   "source": [
    "def get_user_top_tags(user_ratings):\n",
    "    \"\"\"\n",
    "    filter the tags submitted by a given user to only contain the tags for movies with ratings 4.0 or higher\n",
    "    \"\"\"\n",
    "    top_tags = []\n",
    "    for movieId in user_ratings[user_ratings.rating >= 4.0].movieId:\n",
    "        top_tags.extend(look_up_tags(movieId))\n",
    "    return list(np.unique(np.array(top_tags)))"
   ]
  },
  {
   "cell_type": "code",
   "execution_count": 70,
   "metadata": {},
   "outputs": [],
   "source": [
    "def filter_ratings_by_key_words(words):\n",
    "    \"\"\"\n",
    "    filter the whole set of genres and tags to only contain genres or tags containted \n",
    "    within the given list of key words\n",
    "    \"\"\"\n",
    "    # check both tags and genres\n",
    "    ids = []\n",
    "    for word in words:\n",
    "        ids.extend(genres[genres.genres == word].movieId)\n",
    "        ids.extend(tags[tags.tag == word].movieId)\n",
    "    \n",
    "    ids = list(np.unique(np.array(ids)))\n",
    "    \n",
    "    filtered_ratings = ratings[ratings.movieId.isin(ids)]\n",
    "    \n",
    "    return filtered_ratings"
   ]
  },
  {
   "cell_type": "markdown",
   "metadata": {},
   "source": [
    "## Functions for generating recommendations for a given user\n",
    "\n",
    "Thise set of functions performs all the necessary tasks for predicting a user's ranking for a specific movie, ranking the movies by predicted score, and returning a list of top recommendations."
   ]
  },
  {
   "cell_type": "code",
   "execution_count": 71,
   "metadata": {},
   "outputs": [],
   "source": [
    "def rank_movies(userId, ratings):\n",
    "    \"\"\"\n",
    "    obtain a sorted (ranked) list of movies based on their predicted rating by a given user\n",
    "    \"\"\"\n",
    "    movies_list = []\n",
    "    \n",
    "    # loop through all movies and determine their predicted rating\n",
    "    for movie_id in ratings.index.unique():\n",
    "        user_prediction = final_model.predict(userId, movie_id)\n",
    "        predicted_rating = user_prediction[3]\n",
    "        movies_list.append((movie_id, predicted_rating))\n",
    "\n",
    "    # sort the movies by predicted rating\n",
    "    ranked_movies = sorted(movies_list, key=lambda x:x[1], reverse=True)\n",
    "    \n",
    "    return ranked_movies"
   ]
  },
  {
   "cell_type": "code",
   "execution_count": 72,
   "metadata": {},
   "outputs": [],
   "source": [
    "def look_up_movie(movieId):\n",
    "    \"\"\"\n",
    "    look up the title of a movie given it's movieId\n",
    "    \"\"\"\n",
    "    title = movies_df[movies_df['movieId']==movieId]['title']\n",
    "    title_string = title[title.index[0]]\n",
    "    return title_string"
   ]
  },
  {
   "cell_type": "code",
   "execution_count": 73,
   "metadata": {},
   "outputs": [],
   "source": [
    "def get_recommended_titles(n_recs, ranked_movies):\n",
    "    \"\"\"\n",
    "    get a list of a specified number of recommended titles for a user, given their predicted movie ratings, ranked\n",
    "    \"\"\"\n",
    "    return [look_up_movie(id[0]) for id in ranked_movies[0:n_recs]]"
   ]
  },
  {
   "cell_type": "code",
   "execution_count": 74,
   "metadata": {},
   "outputs": [],
   "source": [
    "def recommend_to_user(userId, n_recs, use_words=False):\n",
    "    \"\"\"\n",
    "    Master prediction function: \n",
    "        - call this function to generate a set of movie recommendations for a specific user\n",
    "        - option to filter the recommendations by key words\n",
    "    \n",
    "    Args:\n",
    "        - userId: user Id to generate recommendations for\n",
    "        - n_recs: the total number of recommendations to give the user\n",
    "        - use_words: boolean to indicate whether to filter the movie recommendations by words\n",
    "        \n",
    "    Retruns:\n",
    "        - recommended_titles: list of movie titles to recommend to user\n",
    "    \"\"\"\n",
    "    words = []\n",
    "    filtered_ratings = ratings\n",
    "    \n",
    "    # use_words = True\n",
    "    # determine the tags associated with the users top rated movies\n",
    "    # filter the movie ratings to only contain movies associated with those movies\n",
    "    if use_words:\n",
    "        user_ratings = get_user_ratings(ratings, user_id)\n",
    "        words = get_user_top_tags(user_ratings)\n",
    "        filtered_ratings = filter_ratings_by_key_words(words)\n",
    "    \n",
    "    # rank the movies by predicted rating and obtain the titles for the top recommendations\n",
    "    ranked_movies = rank_movies(userId, filtered_ratings)\n",
    "    recommended_titles = get_recommended_titles(n_recs, ranked_movies)\n",
    "    \n",
    "    return recommended_titles"
   ]
  },
  {
   "cell_type": "code",
   "execution_count": 75,
   "metadata": {},
   "outputs": [
    {
     "data": {
      "text/plain": [
       "['Shawshank Redemption, The (1994)',\n",
       " 'Rear Window (1954)',\n",
       " 'North by Northwest (1959)',\n",
       " 'Sunset Blvd. (a.k.a. Sunset Boulevard) (1950)',\n",
       " 'Streetcar Named Desire, A (1951)']"
      ]
     },
     "execution_count": 75,
     "metadata": {},
     "output_type": "execute_result"
    }
   ],
   "source": [
    "# test recommendation functions\n",
    "user_id = 1\n",
    "n_recs = 5\n",
    "\n",
    "recommend_to_user(user_id, n_recs, use_words=True)"
   ]
  },
  {
   "cell_type": "markdown",
   "metadata": {},
   "source": [
    "# Cold Start Problem\n",
    "How do we recommend movies to a new user?\n",
    "\n",
    "1. recommend the top 5 highest rated movies\n",
    "2. recommend the top 5 movies with the highest number of ratings\n",
    "3. prompt them to choose 3 key words to represent their movie taste upon profile creation\n",
    "4. give them the option to rank movies they've alreay seen"
   ]
  },
  {
   "cell_type": "markdown",
   "metadata": {},
   "source": [
    "## Recommend the top 5 highest rated movies and most rated movies\n",
    "To allow recommendations based on quality and popularity of movies based on the ratings provided by all users"
   ]
  },
  {
   "cell_type": "code",
   "execution_count": 76,
   "metadata": {},
   "outputs": [],
   "source": [
    "def get_ratings_stats(ratings, sortby='rating'):\n",
    "    \"\"\"\n",
    "    generate stats on the ratings dataset and sort the movies by those stats\n",
    "        - average rating for each movie (quality)\n",
    "        - total number of ratings per for movie (popularity)\n",
    "    this allows us to determine what movies have the highest average rating and which\n",
    "    have been rated the most\n",
    "    \"\"\"\n",
    "    # get average ratings and number of ratings for each movie id\n",
    "    ratings_avg = ratings.groupby('movieId').mean()\n",
    "    ratings_count = ratings.groupby('movieId').count()\n",
    "    ratings_avg.head()\n",
    "\n",
    "    # combine average and count into one stats dataframe\n",
    "    ratings_stats = ratings_avg.drop(columns='userId')\n",
    "    ratings_stats[\"n_ratings\"] = ratings_count['userId']\n",
    "\n",
    "    # drop all movies with less than 10 ratings\n",
    "    ratings_stats = ratings_stats[ratings_stats['n_ratings'] > 50]\n",
    "\n",
    "    # order the movies by highest rank and highest number of ratings\n",
    "    if sortby == 'rating':\n",
    "        ratings_stats_sorted = ratings_stats.sort_values(by='rating', ascending=False)\n",
    "    else: \n",
    "        ratings_stats_sorted = ratings_stats.sort_values(by='n_ratings', ascending=False)\n",
    "        \n",
    "    return ratings_stats_sorted\n",
    "\n",
    "# get the top 5 highest rated movies\n",
    "ratings_stats_by_rating = get_ratings_stats(ratings)\n",
    "# get the top 5 movies with the highest number of ratings\n",
    "ratings_stats_by_count = get_ratings_stats(ratings, sortby='count')"
   ]
  },
  {
   "cell_type": "code",
   "execution_count": 77,
   "metadata": {},
   "outputs": [],
   "source": [
    "def top_movies(n_movies, ratings):\n",
    "    \"\"\"\n",
    "    get a list of a specified number of recommended titles for a user, given their predicted movie ratings, ranked\n",
    "    \"\"\"\n",
    "    return [look_up_movie(movie_id) for movie_id in ratings[0:n_movies].index]"
   ]
  },
  {
   "cell_type": "markdown",
   "metadata": {},
   "source": [
    "### Recommend the 5 most rated movies"
   ]
  },
  {
   "cell_type": "code",
   "execution_count": 78,
   "metadata": {},
   "outputs": [
    {
     "data": {
      "text/plain": [
       "['Forrest Gump (1994)',\n",
       " 'Shawshank Redemption, The (1994)',\n",
       " 'Pulp Fiction (1994)',\n",
       " 'Silence of the Lambs, The (1991)',\n",
       " 'Matrix, The (1999)']"
      ]
     },
     "execution_count": 78,
     "metadata": {},
     "output_type": "execute_result"
    }
   ],
   "source": [
    "top_movies(5, ratings_stats_by_count)"
   ]
  },
  {
   "cell_type": "markdown",
   "metadata": {},
   "source": [
    "### Recommend the 5 highest rated movies"
   ]
  },
  {
   "cell_type": "code",
   "execution_count": 79,
   "metadata": {},
   "outputs": [
    {
     "data": {
      "text/plain": [
       "['Shawshank Redemption, The (1994)',\n",
       " 'Godfather, The (1972)',\n",
       " 'Fight Club (1999)',\n",
       " 'Cool Hand Luke (1967)',\n",
       " 'Dr. Strangelove or: How I Learned to Stop Worrying and Love the Bomb (1964)']"
      ]
     },
     "execution_count": 79,
     "metadata": {},
     "output_type": "execute_result"
    }
   ],
   "source": [
    "top_movies(5, ratings_stats_by_rating)"
   ]
  },
  {
   "cell_type": "markdown",
   "metadata": {},
   "source": [
    "## Recommend movies by new user's initial 3 words\n",
    "Recommend movies to a user who has no ratings history yet, but has provided with intial key words indicating their movie preferences.\n",
    "\n",
    "Once the words have been provided, the list of highest rated movies can be filtered to only contain movies associated with the key words they provided, based on genres and tags."
   ]
  },
  {
   "cell_type": "code",
   "execution_count": 80,
   "metadata": {},
   "outputs": [],
   "source": [
    "def recommend_by_start_words(start_words):\n",
    "    \n",
    "    # obtain ratings for movies that contain the given words, then calculate their stats\n",
    "    filtered_ratings = filter_ratings_by_key_words(start_words)\n",
    "    filtered_ratings_stats = get_ratings_stats(filtered_ratings)\n",
    "\n",
    "    # recommend top movies containing the given words\n",
    "    recs = top_movies(5, filtered_ratings_stats)\n",
    "    \n",
    "    return recs"
   ]
  },
  {
   "cell_type": "markdown",
   "metadata": {},
   "source": [
    "#### Start words focussed on animation and children's movies"
   ]
  },
  {
   "cell_type": "code",
   "execution_count": 81,
   "metadata": {},
   "outputs": [
    {
     "data": {
      "text/plain": [
       "['Dr. Strangelove or: How I Learned to Stop Worrying and Love the Bomb (1964)',\n",
       " 'Princess Bride, The (1987)',\n",
       " 'Star Wars: Episode IV - A New Hope (1977)',\n",
       " 'Star Wars: Episode V - The Empire Strikes Back (1980)',\n",
       " 'Raiders of the Lost Ark (Indiana Jones and the Raiders of the Lost Ark) (1981)']"
      ]
     },
     "execution_count": 81,
     "metadata": {},
     "output_type": "execute_result"
    }
   ],
   "source": [
    "recommend_by_start_words(['Adventure', 'Comedy', 'Scifi'])"
   ]
  },
  {
   "cell_type": "markdown",
   "metadata": {},
   "source": [
    "#### Start words focussed on suspense and mystery"
   ]
  },
  {
   "cell_type": "code",
   "execution_count": 82,
   "metadata": {},
   "outputs": [
    {
     "data": {
      "text/plain": [
       "['Fight Club (1999)',\n",
       " 'Rear Window (1954)',\n",
       " 'Departed, The (2006)',\n",
       " 'Dark Knight, The (2008)',\n",
       " 'Usual Suspects, The (1995)']"
      ]
     },
     "execution_count": 82,
     "metadata": {},
     "output_type": "execute_result"
    }
   ],
   "source": [
    "recommend_by_start_words(['suspense', 'psychology', 'Mystery'])"
   ]
  },
  {
   "cell_type": "markdown",
   "metadata": {},
   "source": [
    "# Create a profile for an individual user and make movie recommendations\n",
    "Profile created in order to give an overview of the individual user and thier movie ratings and preferences prior to generating their movie recommendations.\n",
    "- Pick a user and generate a user profile of common high rated genres and tags.\n",
    "- Look at their highest rated movies\n",
    "- Generate 5 movie recommendations"
   ]
  },
  {
   "cell_type": "code",
   "execution_count": 83,
   "metadata": {
    "scrolled": true
   },
   "outputs": [],
   "source": [
    "def user_top_movies(user_ratings, n):\n",
    "    \"\"\"\n",
    "    Determine the top n highest rated movies by an individual user\n",
    "    \n",
    "    args: \n",
    "        user_ratings: generated in function get_user_ratings\n",
    "    \"\"\"\n",
    "    top_titles = []\n",
    "    for movieId in user_ratings[:n].movieId:\n",
    "        top_titles.append(look_up_movie(movieId))\n",
    "    return top_titles "
   ]
  },
  {
   "cell_type": "code",
   "execution_count": 84,
   "metadata": {},
   "outputs": [],
   "source": [
    "def look_up_genres(movieId):\n",
    "    \"\"\"\n",
    "    function to look up the genres associated with a given movieId\n",
    "    \"\"\"\n",
    "    genres_list = movies_df[movies_df['movieId']==movieId]['genres']\n",
    "    genres_string = []\n",
    "    for genre in genres_list:\n",
    "        genres_string.append(genre.split('|'))\n",
    "    return list(np.unique(np.array(genres_string)))"
   ]
  },
  {
   "cell_type": "code",
   "execution_count": 85,
   "metadata": {},
   "outputs": [],
   "source": [
    "def user_top_movie_genres(user_ratings, n_movies):\n",
    "    \"\"\"\n",
    "    determine the genres of the n highest rated movies for an individual user\n",
    "    \"\"\"\n",
    "    top_genres = []\n",
    "    for movieId in user_ratings[:n_movies].movieId:\n",
    "        top_genres.extend(look_up_genres(movieId))\n",
    "    return list(np.unique(np.array(top_genres)))"
   ]
  },
  {
   "cell_type": "code",
   "execution_count": 86,
   "metadata": {},
   "outputs": [],
   "source": [
    "def user_ratings_distribution(user_ratings, userId):\n",
    "    \"\"\"\n",
    "    generate a histogram showing the distribution of movie ratings for an individual user\n",
    "    \"\"\"\n",
    "    # count the ratings for each rating value\n",
    "    ratings_count = user_ratings.groupby(\"rating\").count()\n",
    "    ratings_count = ratings_count.drop(columns=[\"userId\"], axis=1)\n",
    "    ratings_count = ratings_count.rename(columns={'movieId': 'Count'})\n",
    "    ratings_count.loc[1.0] = [0]\n",
    "    \n",
    "    # if any rating categories are missing, add them back in\n",
    "    for rate in [0, 0.5, 1.0, 1.5, 2.0, 2.5, 3.0, 3.5, 4.0, 4.5, 5.0]:\n",
    "        if rate not in ratings_count.index:\n",
    "            ratings_count.loc[rate] = [0]\n",
    "\n",
    "    # plot the distribution of ratings\n",
    "    plt.figure(figsize=(15,5))\n",
    "    sns.barplot(data=ratings_count, x=ratings_count.index, y='Count', palette=\"rocket\")\n",
    "    plt.yticks(fontsize=15)\n",
    "    plt.xlabel('Rating', fontsize=18)\n",
    "    plt.ylabel('Number of Occurrances', fontsize=18)\n",
    "    plt.title(f'Ratings Distribution for user {userId}', fontsize=20)\n",
    "    plt.grid()"
   ]
  },
  {
   "cell_type": "code",
   "execution_count": 87,
   "metadata": {},
   "outputs": [],
   "source": [
    "def user_profile(userId, n):\n",
    "    \"\"\"\n",
    "    function to create a profile for an individual user\n",
    "    \"\"\"\n",
    "    \n",
    "    # generate user basics: get their ratings and count the total number of ratings present\n",
    "    user_ratings = get_user_ratings(ratings, userId)\n",
    "    n_ratings = len(user_ratings)\n",
    "    \n",
    "    # filter their ratings to movies rated 4.0 and above\n",
    "    filtered_user_ratings = user_ratings[user_ratings.rating > 3.5]\n",
    "    \n",
    "    print(f'n ratings = {n_ratings}')\n",
    "    \n",
    "    # get information on the movies they've rated highly, including tags and genres\n",
    "    top_movies = user_top_movies(user_ratings, n)\n",
    "    top_tags = get_user_top_tags(filtered_user_ratings)\n",
    "    top_genres = user_top_movie_genres(user_ratings, n)\n",
    "    \n",
    "    print(f'top {n} movies = {top_movies}')\n",
    "    print(f'top genres = {top_genres}')\n",
    "    \n",
    "    # plot their rating distribution\n",
    "    user_ratings_distribution(user_ratings, userId)"
   ]
  },
  {
   "cell_type": "code",
   "execution_count": 88,
   "metadata": {
    "scrolled": false
   },
   "outputs": [
    {
     "name": "stdout",
     "output_type": "stream",
     "text": [
      "n ratings = 400\n",
      "top 10 movies = ['Toy Story (1995)', 'Jumanji (1995)', 'GoldenEye (1995)', 'Sense and Sensibility (1995)', 'Babe (1995)', 'Seven (a.k.a. Se7en) (1995)', 'Muppet Treasure Island (1996)', 'Braveheart (1995)', 'Casper (1995)', 'Die Hard: With a Vengeance (1995)']\n",
      "top genres = ['Action', 'Adventure', 'Animation', 'Children', 'Comedy', 'Crime', 'Drama', 'Fantasy', 'Musical', 'Mystery', 'Romance', 'Thriller', 'War']\n"
     ]
    },
    {
     "data": {
      "text/plain": [
       "['Sound of Music, The (1965)',\n",
       " 'Forrest Gump (1994)',\n",
       " 'Love Actually (2003)',\n",
       " \"Breakfast at Tiffany's (1961)\",\n",
       " 'Princess Bride, The (1987)']"
      ]
     },
     "execution_count": 88,
     "metadata": {},
     "output_type": "execute_result"
    },
    {
     "data": {
      "image/png": "[encoded data removed]",
      "text/plain": [
       "<Figure size 1080x360 with 1 Axes>"
      ]
     },
     "metadata": {
      "needs_background": "light"
     },
     "output_type": "display_data"
    }
   ],
   "source": [
    "# test the user profile function then recommend movies for the given user\n",
    "user_id = 517\n",
    "n_movies = 10\n",
    "\n",
    "user_profile(user_id, n_movies)\n",
    "recommend_to_user(user_id, n_recs, use_words=True)"
   ]
  },
  {
   "cell_type": "markdown",
   "metadata": {},
   "source": [
    "# Create a New UserId\n",
    "singular function to determine the next available user id to be given to a new user"
   ]
  },
  {
   "cell_type": "code",
   "execution_count": 89,
   "metadata": {},
   "outputs": [],
   "source": [
    "def new_user_id():\n",
    "    \"\"\"\n",
    "    function to determine the next available user id\n",
    "    \"\"\"\n",
    "    return np.unique(np.array(ratings.userId)).max() + 1"
   ]
  },
  {
   "cell_type": "markdown",
   "metadata": {},
   "source": [
    "# Prompt User to Rate a Movie\n",
    "Given a title name (based on what movie the user has just watched or selected to rate), create a new rating by the user for the movie"
   ]
  },
  {
   "cell_type": "code",
   "execution_count": 90,
   "metadata": {},
   "outputs": [],
   "source": [
    "def rate_movie(movie_title, userId):\n",
    "    \"\"\"\n",
    "    function to prompt a user to rate a movie, given the title\n",
    "    \"\"\"\n",
    "    try:\n",
    "        movie_id = int(movies_df[movies_df.title == movie_title].movieId)\n",
    "    except TypeError:\n",
    "        return {}\n",
    "    \n",
    "    print(movie_title)\n",
    "    rating = input('How do you rate this movie on a scale of 1-5')\n",
    "    rating = {'userId':userId, 'movieId': movie_id, 'rating': rating}\n",
    "\n",
    "    return rating\n",
    "\n",
    "def add_rating_to_df(rating):\n",
    "    \"\"\"\n",
    "    add a single new rating to the ratings data frame and surprise data set\n",
    "    \"\"\"\n",
    "    new_ratings_df = pd.DataFrame(rating)\n",
    "    \n",
    "    # update the index to continue the existing index in the ratings dataframe\n",
    "    new_ratings_df['new_index'] = [ratings.index.max()+1]\n",
    "    new_ratings_df = new_ratings_df.set_index('new_index')\n",
    "    \n",
    "    updated_ratings_df = pd.concat([ratings, new_ratings_df], axis=0)\n",
    "    updated_dataset = Dataset.load_from_df(new_ratings_df, reader)\n",
    "    \n",
    "    return updated_ratings_df, updated_dataset"
   ]
  },
  {
   "cell_type": "code",
   "execution_count": 91,
   "metadata": {},
   "outputs": [
    {
     "name": "stdout",
     "output_type": "stream",
     "text": [
      "Spotlight (2015)\n"
     ]
    },
    {
     "data": {
      "text/html": [
       "<div>\n",
       "<style scoped>\n",
       "    .dataframe tbody tr th:only-of-type {\n",
       "        vertical-align: middle;\n",
       "    }\n",
       "\n",
       "    .dataframe tbody tr th {\n",
       "        vertical-align: top;\n",
       "    }\n",
       "\n",
       "    .dataframe thead th {\n",
       "        text-align: right;\n",
       "    }\n",
       "</style>\n",
       "<table border=\"1\" class=\"dataframe\">\n",
       "  <thead>\n",
       "    <tr style=\"text-align: right;\">\n",
       "      <th></th>\n",
       "      <th>userId</th>\n",
       "      <th>movieId</th>\n",
       "      <th>rating</th>\n",
       "    </tr>\n",
       "  </thead>\n",
       "  <tbody>\n",
       "    <tr>\n",
       "      <th>100832</th>\n",
       "      <td>610</td>\n",
       "      <td>168248</td>\n",
       "      <td>5</td>\n",
       "    </tr>\n",
       "    <tr>\n",
       "      <th>100833</th>\n",
       "      <td>610</td>\n",
       "      <td>168250</td>\n",
       "      <td>5</td>\n",
       "    </tr>\n",
       "    <tr>\n",
       "      <th>100834</th>\n",
       "      <td>610</td>\n",
       "      <td>168252</td>\n",
       "      <td>5</td>\n",
       "    </tr>\n",
       "    <tr>\n",
       "      <th>100835</th>\n",
       "      <td>610</td>\n",
       "      <td>170875</td>\n",
       "      <td>3</td>\n",
       "    </tr>\n",
       "    <tr>\n",
       "      <th>100836</th>\n",
       "      <td>611</td>\n",
       "      <td>142488</td>\n",
       "      <td>4</td>\n",
       "    </tr>\n",
       "  </tbody>\n",
       "</table>\n",
       "</div>"
      ],
      "text/plain": [
       "        userId  movieId rating\n",
       "100832     610   168248      5\n",
       "100833     610   168250      5\n",
       "100834     610   168252      5\n",
       "100835     610   170875      3\n",
       "100836     611   142488      4"
      ]
     },
     "execution_count": 91,
     "metadata": {},
     "output_type": "execute_result"
    }
   ],
   "source": [
    "new_user_id = new_user_id()\n",
    "new_rating = rate_movie(movie_title='Spotlight (2015)', userId=new_user_id)\n",
    "ratings_df, data = add_rating_to_df([new_rating])\n",
    "\n",
    "ratings_df.tail()"
   ]
  },
  {
   "cell_type": "markdown",
   "metadata": {},
   "source": [
    "# Look at top 10 recommendations for all users \n",
    "In order to get a feel for the tendencies of the recommendation model. \n",
    "- determine the movies that are recommended most often to the given user profiles\n",
    "- define a function to loop through all users and make recommendations for each"
   ]
  },
  {
   "cell_type": "code",
   "execution_count": 92,
   "metadata": {},
   "outputs": [],
   "source": [
    "def get_most_recommened_movies_for_all_users(n_recs, use_words=False):\n",
    "    \"\"\"\n",
    "    function to loop through all userIds and generate 5 movie recommendations for each. then count the total\n",
    "    number of times each movie was recommended and return the top 10\n",
    "    \"\"\"\n",
    "    userIds = list(np.unique(np.array(ratings.userId)))\n",
    "    all_recs = []\n",
    "    for Id in userIds:\n",
    "        all_recs.extend(recommend_to_user(Id, n_recs, use_words=use_words))\n",
    "        \n",
    "    # get a list of unique movies\n",
    "    unique_movies = list(np.unique(np.array(all_recs)))\n",
    "\n",
    "    # count the number of times that movie was recommended and sort them\n",
    "    occurance_count = [all_recs.count(movie) for movie in unique_movies]\n",
    "    movie_rec_count = pd.DataFrame({'movie': unique_movies, 'rec_count': occurance_count}).sort_values(by='rec_count', ascending=False).set_index('movie')\n",
    "\n",
    "    # get the top 10 most recommened movies\n",
    "    movie_rec_count = movie_rec_count[:10]\n",
    "    \n",
    "    # plot the top 10 most recommended movies\n",
    "\n",
    "    plt.figure(figsize=(15,10))\n",
    "    ax = sns.barplot(data=movie_rec_count, x='rec_count', y=movie_rec_count.index, palette='rocket')\n",
    "    # ax.bar_label(ax.containers[0], fmt='%.1f')\n",
    "    plt.yticks(fontsize=15)\n",
    "    plt.xlabel('Number of Recommendations', fontsize=18)\n",
    "    plt.ylabel('', fontsize=18)\n",
    "    plt.title('Most Common Movies Recommended', fontsize=20)\n",
    "    plt.grid()\n",
    "    plt.show()\n",
    "    \n",
    "    return movie_rec_count"
   ]
  },
  {
   "cell_type": "markdown",
   "metadata": {},
   "source": [
    "### Look at the most common recommendations"
   ]
  },
  {
   "cell_type": "code",
   "execution_count": 93,
   "metadata": {},
   "outputs": [
    {
     "data": {
      "image/png": "[encoded data removed]",
      "text/plain": [
       "<Figure size 1080x720 with 1 Axes>"
      ]
     },
     "metadata": {
      "needs_background": "light"
     },
     "output_type": "display_data"
    }
   ],
   "source": [
    "top_movie_recs = get_most_recommened_movies_for_all_users(5, use_words=False)"
   ]
  },
  {
   "cell_type": "markdown",
   "metadata": {},
   "source": [
    "### Look at the most common reccomendations when the top key words for each user are included"
   ]
  },
  {
   "cell_type": "code",
   "execution_count": 94,
   "metadata": {
    "scrolled": false
   },
   "outputs": [
    {
     "data": {
      "image/png": "[encoded data removed]",
      "text/plain": [
       "<Figure size 1080x720 with 1 Axes>"
      ]
     },
     "metadata": {
      "needs_background": "light"
     },
     "output_type": "display_data"
    }
   ],
   "source": [
    "top_movie_recs_using_key_words = get_most_recommened_movies_for_all_users(5, use_words=True)"
   ]
  },
  {
   "cell_type": "markdown",
   "metadata": {},
   "source": [
    "#### Fin"
   ]
  }
 ],
 "metadata": {
  "kernelspec": {
   "display_name": "learn-env",
   "language": "python",
   "name": "python3"
  },
  "language_info": {
   "codemirror_mode": {
    "name": "ipython",
    "version": 3
   },
   "file_extension": ".py",
   "mimetype": "text/x-python",
   "name": "python",
   "nbconvert_exporter": "python",
   "pygments_lexer": "ipython3",
   "version": "3.8.5"
  }
 },
 "nbformat": 4,
 "nbformat_minor": 2
}
