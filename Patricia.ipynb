{
 "cells": [
  {
   "cell_type": "markdown",
   "metadata": {},
   "source": [
    "# Movie Recommender System\n",
    "![Movie Poster](https://upload.wikimedia.org/wikipedia/en/6/69/Inception_ver3.jpg)\n",
    "\n",
    "# Table of Contents\n",
    "- [Business Understanding](#Business-Understanding)\n",
    "- [Data Understanding](#Data-Understanding)\n",
    "- [Data Preprocessing](#Data-Cleaning)\n",
    "- [Exploratory Data Analysis](#Exploratory-Data-Analysis)\n",
    "- [Generating a Recommendation System](#Generating-the-Recommender-System)\n",
    "- [Conclusion and Recommendation](#Conclusion-and-Recommendation)\n",
    "\n",
